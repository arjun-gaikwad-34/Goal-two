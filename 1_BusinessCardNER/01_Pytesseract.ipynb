{
 "cells": [
  {
   "cell_type": "code",
   "execution_count": 6,
   "id": "168be552",
   "metadata": {},
   "outputs": [
    {
     "name": "stderr",
     "output_type": "stream",
     "text": [
      "Python was not found; run without arguments to install from the Microsoft Store, or disable this shortcut from Settings > Manage App Execution Aliases.\n"
     ]
    }
   ],
   "source": [
    "!python3 -m pip install --upgrade pip"
   ]
  },
  {
   "cell_type": "code",
   "execution_count": null,
   "id": "e615bb55",
   "metadata": {},
   "outputs": [],
   "source": [
    "%pip install opencv-python"
   ]
  },
  {
   "cell_type": "code",
   "execution_count": 2,
   "id": "492a43cb-54b5-4b78-9601-ab5da7d831ad",
   "metadata": {},
   "outputs": [],
   "source": [
    "import numpy as np \n",
    "import pandas as pd\n",
    "import cv2\n",
    "import PIL\n",
    "import pytesseract\n",
    "import spacy\n",
    "import matplotlib.pyplot as plt"
   ]
  },
  {
   "cell_type": "code",
   "execution_count": 17,
   "id": "365c0ee9",
   "metadata": {},
   "outputs": [],
   "source": [
    "img_cv = cv2.imread(r\"C:\\Users\\AGaikwad\\OneDrive - Genzeon Corporation\\Desktop\\Project template\\BusinessCardData\\Selected\\052.jpeg\")\n",
    "\n",
    "cv2.imshow('Business Card', img_cv)\n",
    "cv2.waitKey(0)\n",
    "cv2.destroyAllWindows()"
   ]
  },
  {
   "cell_type": "code",
   "execution_count": 19,
   "id": "16b24fe6",
   "metadata": {},
   "outputs": [],
   "source": [
    "img_pl = PIL.Image.open(r\"C:\\Users\\AGaikwad\\OneDrive - Genzeon Corporation\\Desktop\\Project template\\BusinessCardData\\Selected\\052.jpeg\")"
   ]
  },
  {
   "cell_type": "code",
   "execution_count": null,
   "id": "c24e2820",
   "metadata": {},
   "outputs": [],
   "source": [
    "img_pl #to see the image"
   ]
  },
  {
   "cell_type": "code",
   "execution_count": 23,
   "id": "1c8068cb",
   "metadata": {},
   "outputs": [
    {
     "name": "stdout",
     "output_type": "stream",
     "text": [
      "HONDA\n",
      "\n",
      "DONNIE HANSEN\n",
      "MOTOCROSS TEAM RIDER\n",
      "TEAM HONDA\n",
      "\n",
      "AMERICAN HONDA MOTOR CO., INC.\n",
      "100 WEST ALONDRA BOULEVARD e GARDENA, CA 90247\n",
      "(213) 321-8680\n",
      "\n"
     ]
    }
   ],
   "source": [
    "#extracting text from image\n",
    "text = pytesseract.image_to_string(\n",
    "    img_pl,\n",
    "    lang=None,\n",
    ")\n",
    "\n",
    "print(text)"
   ]
  },
  {
   "cell_type": "code",
   "execution_count": 24,
   "id": "a3f6367c",
   "metadata": {},
   "outputs": [],
   "source": [
    "#Image to data\n",
    "data = pytesseract.image_to_data(\n",
    "    img_pl\n",
    ")"
   ]
  },
  {
   "cell_type": "code",
   "execution_count": 26,
   "id": "b97dda96",
   "metadata": {},
   "outputs": [
    {
     "data": {
      "text/plain": [
       "'level\\tpage_num\\tblock_num\\tpar_num\\tline_num\\tword_num\\tleft\\ttop\\twidth\\theight\\tconf\\ttext\\n1\\t1\\t0\\t0\\t0\\t0\\t0\\t0\\t720\\t401\\t-1\\t\\n2\\t1\\t1\\t0\\t0\\t0\\t36\\t29\\t207\\t25\\t-1\\t\\n3\\t1\\t1\\t1\\t0\\t0\\t36\\t29\\t207\\t25\\t-1\\t\\n4\\t1\\t1\\t1\\t1\\t0\\t36\\t29\\t207\\t25\\t-1\\t\\n5\\t1\\t1\\t1\\t1\\t1\\t36\\t29\\t207\\t25\\t86.427689\\tHONDA\\n2\\t1\\t2\\t0\\t0\\t0\\t237\\t166\\t246\\t63\\t-1\\t\\n3\\t1\\t2\\t1\\t0\\t0\\t237\\t166\\t246\\t63\\t-1\\t\\n4\\t1\\t2\\t1\\t1\\t0\\t237\\t166\\t246\\t16\\t-1\\t\\n5\\t1\\t2\\t1\\t1\\t1\\t237\\t166\\t112\\t16\\t96.601448\\tDONNIE\\n5\\t1\\t2\\t1\\t1\\t2\\t364\\t166\\t119\\t16\\t96.523178\\tHANSEN\\n4\\t1\\t2\\t1\\t2\\t0\\t245\\t194\\t231\\t12\\t-1\\t\\n5\\t1\\t2\\t1\\t2\\t1\\t245\\t195\\t108\\t11\\t96.121681\\tMOTOCROSS\\n5\\t1\\t2\\t1\\t2\\t2\\t362\\t194\\t48\\t11\\t96.600952\\tTEAM\\n5\\t1\\t2\\t1\\t2\\t3\\t422\\t194\\t54\\t11\\t96.310631\\tRIDER\\n4\\t1\\t2\\t1\\t3\\t0\\t299\\t218\\t123\\t11\\t-1\\t\\n5\\t1\\t2\\t1\\t3\\t1\\t299\\t218\\t49\\t11\\t95.178825\\tTEAM\\n5\\t1\\t2\\t1\\t3\\t2\\t359\\t218\\t63\\t11\\t95.178825\\tHONDA\\n2\\t1\\t3\\t0\\t0\\t0\\t35\\t304\\t649\\t67\\t-1\\t\\n3\\t1\\t3\\t1\\t0\\t0\\t35\\t304\\t649\\t67\\t-1\\t\\n4\\t1\\t3\\t1\\t1\\t0\\t35\\t304\\t648\\t22\\t-1\\t\\n5\\t1\\t3\\t1\\t1\\t1\\t35\\t307\\t184\\t17\\t96.608345\\tAMERICAN\\n5\\t1\\t3\\t1\\t1\\t2\\t240\\t306\\t122\\t17\\t96.001488\\tHONDA\\n5\\t1\\t3\\t1\\t1\\t3\\t383\\t305\\t123\\t18\\t92.981758\\tMOTOR\\n5\\t1\\t3\\t1\\t1\\t4\\t527\\t305\\t66\\t21\\t81.512299\\tCO.,\\n5\\t1\\t3\\t1\\t1\\t5\\t612\\t304\\t71\\t17\\t94.327950\\tINC.\\n4\\t1\\t3\\t1\\t2\\t0\\t39\\t333\\t645\\t14\\t-1\\t\\n5\\t1\\t3\\t1\\t2\\t1\\t39\\t335\\t35\\t12\\t96.249023\\t100\\n5\\t1\\t3\\t1\\t2\\t2\\t87\\t335\\t61\\t11\\t92.037720\\tWEST\\n5\\t1\\t3\\t1\\t2\\t3\\t161\\t335\\t106\\t11\\t92.037720\\tALONDRA\\n5\\t1\\t3\\t1\\t2\\t4\\t282\\t335\\t132\\t11\\t93.251259\\tBOULEVARD\\n5\\t1\\t3\\t1\\t2\\t5\\t428\\t337\\t9\\t9\\t88.720718\\te\\n5\\t1\\t3\\t1\\t2\\t6\\t452\\t334\\t112\\t13\\t92.596664\\tGARDENA,\\n5\\t1\\t3\\t1\\t2\\t7\\t579\\t333\\t28\\t12\\t96.523315\\tCA\\n5\\t1\\t3\\t1\\t2\\t8\\t620\\t333\\t64\\t12\\t96.658073\\t90247\\n4\\t1\\t3\\t1\\t3\\t0\\t285\\t358\\t153\\t13\\t-1\\t\\n5\\t1\\t3\\t1\\t3\\t1\\t285\\t358\\t50\\t13\\t96.457191\\t(213)\\n5\\t1\\t3\\t1\\t3\\t2\\t345\\t358\\t93\\t12\\t94.811729\\t321-8680\\n'"
      ]
     },
     "execution_count": 26,
     "metadata": {},
     "output_type": "execute_result"
    }
   ],
   "source": [
    "data"
   ]
  },
  {
   "cell_type": "code",
   "execution_count": 30,
   "id": "fd6cd722",
   "metadata": {},
   "outputs": [
    {
     "name": "stdout",
     "output_type": "stream",
     "text": [
      "[['level', 'page_num', 'block_num', 'par_num', 'line_num', 'word_num', 'left', 'top', 'width', 'height', 'conf', 'text'], ['1', '1', '0', '0', '0', '0', '0', '0', '720', '401', '-1', ''], ['2', '1', '1', '0', '0', '0', '36', '29', '207', '25', '-1', ''], ['3', '1', '1', '1', '0', '0', '36', '29', '207', '25', '-1', ''], ['4', '1', '1', '1', '1', '0', '36', '29', '207', '25', '-1', ''], ['5', '1', '1', '1', '1', '1', '36', '29', '207', '25', '86.427689', 'HONDA'], ['2', '1', '2', '0', '0', '0', '237', '166', '246', '63', '-1', ''], ['3', '1', '2', '1', '0', '0', '237', '166', '246', '63', '-1', ''], ['4', '1', '2', '1', '1', '0', '237', '166', '246', '16', '-1', ''], ['5', '1', '2', '1', '1', '1', '237', '166', '112', '16', '96.601448', 'DONNIE'], ['5', '1', '2', '1', '1', '2', '364', '166', '119', '16', '96.523178', 'HANSEN'], ['4', '1', '2', '1', '2', '0', '245', '194', '231', '12', '-1', ''], ['5', '1', '2', '1', '2', '1', '245', '195', '108', '11', '96.121681', 'MOTOCROSS'], ['5', '1', '2', '1', '2', '2', '362', '194', '48', '11', '96.600952', 'TEAM'], ['5', '1', '2', '1', '2', '3', '422', '194', '54', '11', '96.310631', 'RIDER'], ['4', '1', '2', '1', '3', '0', '299', '218', '123', '11', '-1', ''], ['5', '1', '2', '1', '3', '1', '299', '218', '49', '11', '95.178825', 'TEAM'], ['5', '1', '2', '1', '3', '2', '359', '218', '63', '11', '95.178825', 'HONDA'], ['2', '1', '3', '0', '0', '0', '35', '304', '649', '67', '-1', ''], ['3', '1', '3', '1', '0', '0', '35', '304', '649', '67', '-1', ''], ['4', '1', '3', '1', '1', '0', '35', '304', '648', '22', '-1', ''], ['5', '1', '3', '1', '1', '1', '35', '307', '184', '17', '96.608345', 'AMERICAN'], ['5', '1', '3', '1', '1', '2', '240', '306', '122', '17', '96.001488', 'HONDA'], ['5', '1', '3', '1', '1', '3', '383', '305', '123', '18', '92.981758', 'MOTOR'], ['5', '1', '3', '1', '1', '4', '527', '305', '66', '21', '81.512299', 'CO.,'], ['5', '1', '3', '1', '1', '5', '612', '304', '71', '17', '94.327950', 'INC.'], ['4', '1', '3', '1', '2', '0', '39', '333', '645', '14', '-1', ''], ['5', '1', '3', '1', '2', '1', '39', '335', '35', '12', '96.249023', '100'], ['5', '1', '3', '1', '2', '2', '87', '335', '61', '11', '92.037720', 'WEST'], ['5', '1', '3', '1', '2', '3', '161', '335', '106', '11', '92.037720', 'ALONDRA'], ['5', '1', '3', '1', '2', '4', '282', '335', '132', '11', '93.251259', 'BOULEVARD'], ['5', '1', '3', '1', '2', '5', '428', '337', '9', '9', '88.720718', 'e'], ['5', '1', '3', '1', '2', '6', '452', '334', '112', '13', '92.596664', 'GARDENA,'], ['5', '1', '3', '1', '2', '7', '579', '333', '28', '12', '96.523315', 'CA'], ['5', '1', '3', '1', '2', '8', '620', '333', '64', '12', '96.658073', '90247'], ['4', '1', '3', '1', '3', '0', '285', '358', '153', '13', '-1', ''], ['5', '1', '3', '1', '3', '1', '285', '358', '50', '13', '96.457191', '(213)'], ['5', '1', '3', '1', '3', '2', '345', '358', '93', '12', '94.811729', '321-8680'], ['']]\n"
     ]
    }
   ],
   "source": [
    "dataList = list(map(lambda x: x.split('\\t'),data.split('\\n')))\n",
    "print(dataList)"
   ]
  },
  {
   "cell_type": "code",
   "execution_count": 33,
   "id": "8329ebea",
   "metadata": {},
   "outputs": [
    {
     "data": {
      "text/html": [
       "<div>\n",
       "<style scoped>\n",
       "    .dataframe tbody tr th:only-of-type {\n",
       "        vertical-align: middle;\n",
       "    }\n",
       "\n",
       "    .dataframe tbody tr th {\n",
       "        vertical-align: top;\n",
       "    }\n",
       "\n",
       "    .dataframe thead th {\n",
       "        text-align: right;\n",
       "    }\n",
       "</style>\n",
       "<table border=\"1\" class=\"dataframe\">\n",
       "  <thead>\n",
       "    <tr style=\"text-align: right;\">\n",
       "      <th></th>\n",
       "      <th>level</th>\n",
       "      <th>page_num</th>\n",
       "      <th>block_num</th>\n",
       "      <th>par_num</th>\n",
       "      <th>line_num</th>\n",
       "      <th>word_num</th>\n",
       "      <th>left</th>\n",
       "      <th>top</th>\n",
       "      <th>width</th>\n",
       "      <th>height</th>\n",
       "      <th>conf</th>\n",
       "      <th>text</th>\n",
       "    </tr>\n",
       "  </thead>\n",
       "  <tbody>\n",
       "    <tr>\n",
       "      <th>0</th>\n",
       "      <td>1</td>\n",
       "      <td>1</td>\n",
       "      <td>0</td>\n",
       "      <td>0</td>\n",
       "      <td>0</td>\n",
       "      <td>0</td>\n",
       "      <td>0</td>\n",
       "      <td>0</td>\n",
       "      <td>720</td>\n",
       "      <td>401</td>\n",
       "      <td>-1</td>\n",
       "      <td></td>\n",
       "    </tr>\n",
       "    <tr>\n",
       "      <th>1</th>\n",
       "      <td>2</td>\n",
       "      <td>1</td>\n",
       "      <td>1</td>\n",
       "      <td>0</td>\n",
       "      <td>0</td>\n",
       "      <td>0</td>\n",
       "      <td>36</td>\n",
       "      <td>29</td>\n",
       "      <td>207</td>\n",
       "      <td>25</td>\n",
       "      <td>-1</td>\n",
       "      <td></td>\n",
       "    </tr>\n",
       "    <tr>\n",
       "      <th>2</th>\n",
       "      <td>3</td>\n",
       "      <td>1</td>\n",
       "      <td>1</td>\n",
       "      <td>1</td>\n",
       "      <td>0</td>\n",
       "      <td>0</td>\n",
       "      <td>36</td>\n",
       "      <td>29</td>\n",
       "      <td>207</td>\n",
       "      <td>25</td>\n",
       "      <td>-1</td>\n",
       "      <td></td>\n",
       "    </tr>\n",
       "    <tr>\n",
       "      <th>3</th>\n",
       "      <td>4</td>\n",
       "      <td>1</td>\n",
       "      <td>1</td>\n",
       "      <td>1</td>\n",
       "      <td>1</td>\n",
       "      <td>0</td>\n",
       "      <td>36</td>\n",
       "      <td>29</td>\n",
       "      <td>207</td>\n",
       "      <td>25</td>\n",
       "      <td>-1</td>\n",
       "      <td></td>\n",
       "    </tr>\n",
       "    <tr>\n",
       "      <th>4</th>\n",
       "      <td>5</td>\n",
       "      <td>1</td>\n",
       "      <td>1</td>\n",
       "      <td>1</td>\n",
       "      <td>1</td>\n",
       "      <td>1</td>\n",
       "      <td>36</td>\n",
       "      <td>29</td>\n",
       "      <td>207</td>\n",
       "      <td>25</td>\n",
       "      <td>86.427689</td>\n",
       "      <td>HONDA</td>\n",
       "    </tr>\n",
       "  </tbody>\n",
       "</table>\n",
       "</div>"
      ],
      "text/plain": [
       "  level page_num block_num par_num line_num word_num left top width height  \\\n",
       "0     1        1         0       0        0        0    0   0   720    401   \n",
       "1     2        1         1       0        0        0   36  29   207     25   \n",
       "2     3        1         1       1        0        0   36  29   207     25   \n",
       "3     4        1         1       1        1        0   36  29   207     25   \n",
       "4     5        1         1       1        1        1   36  29   207     25   \n",
       "\n",
       "        conf   text  \n",
       "0         -1         \n",
       "1         -1         \n",
       "2         -1         \n",
       "3         -1         \n",
       "4  86.427689  HONDA  "
      ]
     },
     "execution_count": 33,
     "metadata": {},
     "output_type": "execute_result"
    }
   ],
   "source": [
    "df = pd.DataFrame(dataList[1:], columns=dataList[0])\n",
    "df.head()"
   ]
  },
  {
   "cell_type": "markdown",
   "id": "a7ed434e",
   "metadata": {},
   "source": [
    "Clean Text in Dataframe"
   ]
  },
  {
   "cell_type": "code",
   "execution_count": 34,
   "id": "367f7ecc",
   "metadata": {},
   "outputs": [
    {
     "name": "stdout",
     "output_type": "stream",
     "text": [
      "<class 'pandas.core.frame.DataFrame'>\n",
      "RangeIndex: 38 entries, 0 to 37\n",
      "Data columns (total 12 columns):\n",
      " #   Column     Non-Null Count  Dtype \n",
      "---  ------     --------------  ----- \n",
      " 0   level      38 non-null     object\n",
      " 1   page_num   37 non-null     object\n",
      " 2   block_num  37 non-null     object\n",
      " 3   par_num    37 non-null     object\n",
      " 4   line_num   37 non-null     object\n",
      " 5   word_num   37 non-null     object\n",
      " 6   left       37 non-null     object\n",
      " 7   top        37 non-null     object\n",
      " 8   width      37 non-null     object\n",
      " 9   height     37 non-null     object\n",
      " 10  conf       37 non-null     object\n",
      " 11  text       37 non-null     object\n",
      "dtypes: object(12)\n",
      "memory usage: 3.7+ KB\n"
     ]
    }
   ],
   "source": [
    "df.info()"
   ]
  },
  {
   "cell_type": "code",
   "execution_count": 35,
   "id": "3e7257e9",
   "metadata": {},
   "outputs": [],
   "source": [
    "df.dropna(inplace=True) # drop the missing values in rows"
   ]
  },
  {
   "cell_type": "code",
   "execution_count": 36,
   "id": "8e62099a",
   "metadata": {},
   "outputs": [
    {
     "name": "stdout",
     "output_type": "stream",
     "text": [
      "<class 'pandas.core.frame.DataFrame'>\n",
      "Index: 37 entries, 0 to 36\n",
      "Data columns (total 12 columns):\n",
      " #   Column     Non-Null Count  Dtype \n",
      "---  ------     --------------  ----- \n",
      " 0   level      37 non-null     object\n",
      " 1   page_num   37 non-null     object\n",
      " 2   block_num  37 non-null     object\n",
      " 3   par_num    37 non-null     object\n",
      " 4   line_num   37 non-null     object\n",
      " 5   word_num   37 non-null     object\n",
      " 6   left       37 non-null     object\n",
      " 7   top        37 non-null     object\n",
      " 8   width      37 non-null     object\n",
      " 9   height     37 non-null     object\n",
      " 10  conf       37 non-null     object\n",
      " 11  text       37 non-null     object\n",
      "dtypes: object(12)\n",
      "memory usage: 3.8+ KB\n"
     ]
    }
   ],
   "source": [
    "df.info()"
   ]
  },
  {
   "cell_type": "code",
   "execution_count": 37,
   "id": "476f8170",
   "metadata": {},
   "outputs": [
    {
     "data": {
      "text/html": [
       "<div>\n",
       "<style scoped>\n",
       "    .dataframe tbody tr th:only-of-type {\n",
       "        vertical-align: middle;\n",
       "    }\n",
       "\n",
       "    .dataframe tbody tr th {\n",
       "        vertical-align: top;\n",
       "    }\n",
       "\n",
       "    .dataframe thead th {\n",
       "        text-align: right;\n",
       "    }\n",
       "</style>\n",
       "<table border=\"1\" class=\"dataframe\">\n",
       "  <thead>\n",
       "    <tr style=\"text-align: right;\">\n",
       "      <th></th>\n",
       "      <th>level</th>\n",
       "      <th>page_num</th>\n",
       "      <th>block_num</th>\n",
       "      <th>par_num</th>\n",
       "      <th>line_num</th>\n",
       "      <th>word_num</th>\n",
       "      <th>left</th>\n",
       "      <th>top</th>\n",
       "      <th>width</th>\n",
       "      <th>height</th>\n",
       "      <th>conf</th>\n",
       "      <th>text</th>\n",
       "    </tr>\n",
       "  </thead>\n",
       "  <tbody>\n",
       "    <tr>\n",
       "      <th>0</th>\n",
       "      <td>1</td>\n",
       "      <td>1</td>\n",
       "      <td>0</td>\n",
       "      <td>0</td>\n",
       "      <td>0</td>\n",
       "      <td>0</td>\n",
       "      <td>0</td>\n",
       "      <td>0</td>\n",
       "      <td>720</td>\n",
       "      <td>401</td>\n",
       "      <td>-1</td>\n",
       "      <td></td>\n",
       "    </tr>\n",
       "    <tr>\n",
       "      <th>1</th>\n",
       "      <td>2</td>\n",
       "      <td>1</td>\n",
       "      <td>1</td>\n",
       "      <td>0</td>\n",
       "      <td>0</td>\n",
       "      <td>0</td>\n",
       "      <td>36</td>\n",
       "      <td>29</td>\n",
       "      <td>207</td>\n",
       "      <td>25</td>\n",
       "      <td>-1</td>\n",
       "      <td></td>\n",
       "    </tr>\n",
       "    <tr>\n",
       "      <th>2</th>\n",
       "      <td>3</td>\n",
       "      <td>1</td>\n",
       "      <td>1</td>\n",
       "      <td>1</td>\n",
       "      <td>0</td>\n",
       "      <td>0</td>\n",
       "      <td>36</td>\n",
       "      <td>29</td>\n",
       "      <td>207</td>\n",
       "      <td>25</td>\n",
       "      <td>-1</td>\n",
       "      <td></td>\n",
       "    </tr>\n",
       "    <tr>\n",
       "      <th>3</th>\n",
       "      <td>4</td>\n",
       "      <td>1</td>\n",
       "      <td>1</td>\n",
       "      <td>1</td>\n",
       "      <td>1</td>\n",
       "      <td>0</td>\n",
       "      <td>36</td>\n",
       "      <td>29</td>\n",
       "      <td>207</td>\n",
       "      <td>25</td>\n",
       "      <td>-1</td>\n",
       "      <td></td>\n",
       "    </tr>\n",
       "    <tr>\n",
       "      <th>4</th>\n",
       "      <td>5</td>\n",
       "      <td>1</td>\n",
       "      <td>1</td>\n",
       "      <td>1</td>\n",
       "      <td>1</td>\n",
       "      <td>1</td>\n",
       "      <td>36</td>\n",
       "      <td>29</td>\n",
       "      <td>207</td>\n",
       "      <td>25</td>\n",
       "      <td>86.427689</td>\n",
       "      <td>HONDA</td>\n",
       "    </tr>\n",
       "  </tbody>\n",
       "</table>\n",
       "</div>"
      ],
      "text/plain": [
       "  level page_num block_num par_num line_num word_num left top width height  \\\n",
       "0     1        1         0       0        0        0    0   0   720    401   \n",
       "1     2        1         1       0        0        0   36  29   207     25   \n",
       "2     3        1         1       1        0        0   36  29   207     25   \n",
       "3     4        1         1       1        1        0   36  29   207     25   \n",
       "4     5        1         1       1        1        1   36  29   207     25   \n",
       "\n",
       "        conf   text  \n",
       "0         -1         \n",
       "1         -1         \n",
       "2         -1         \n",
       "3         -1         \n",
       "4  86.427689  HONDA  "
      ]
     },
     "execution_count": 37,
     "metadata": {},
     "output_type": "execute_result"
    }
   ],
   "source": [
    "df.head()"
   ]
  },
  {
   "cell_type": "code",
   "execution_count": 40,
   "id": "9a58973a",
   "metadata": {},
   "outputs": [
    {
     "data": {
      "text/plain": [
       "array(['-1', '86.427689', '96.601448', '96.523178', '96.121681',\n",
       "       '96.600952', '96.310631', '95.178825', '96.608345', '96.001488',\n",
       "       '92.981758', '81.512299', '94.327950', '96.249023', '92.037720',\n",
       "       '93.251259', '88.720718', '92.596664', '96.523315', '96.658073',\n",
       "       '96.457191', '94.811729'], dtype=object)"
      ]
     },
     "execution_count": 40,
     "metadata": {},
     "output_type": "execute_result"
    }
   ],
   "source": [
    "df['conf'].unique()"
   ]
  },
  {
   "cell_type": "code",
   "execution_count": 41,
   "id": "a17e3b74",
   "metadata": {},
   "outputs": [],
   "source": [
    "df['conf']=df['conf'].apply(pd.to_numeric, errors='coerce')"
   ]
  },
  {
   "cell_type": "code",
   "execution_count": 42,
   "id": "819a10da",
   "metadata": {},
   "outputs": [],
   "source": [
    "col_int = ['level','page_num','block_num','par_num','line_num','word_num','left','top','width','height','conf']\n",
    "df[col_int]=df[col_int].astype(int)"
   ]
  },
  {
   "cell_type": "code",
   "execution_count": 44,
   "id": "f786e2a4",
   "metadata": {},
   "outputs": [
    {
     "data": {
      "text/plain": [
       "level         int32\n",
       "page_num      int32\n",
       "block_num     int32\n",
       "par_num       int32\n",
       "line_num      int32\n",
       "word_num      int32\n",
       "left          int32\n",
       "top           int32\n",
       "width         int32\n",
       "height        int32\n",
       "conf          int32\n",
       "text         object\n",
       "dtype: object"
      ]
     },
     "execution_count": 44,
     "metadata": {},
     "output_type": "execute_result"
    }
   ],
   "source": [
    "df.dtypes"
   ]
  },
  {
   "cell_type": "markdown",
   "id": "ac310ff7",
   "metadata": {},
   "source": [
    "Drawing Bounding Box around each word"
   ]
  },
  {
   "cell_type": "code",
   "execution_count": 54,
   "id": "72e6851a",
   "metadata": {},
   "outputs": [],
   "source": [
    "image = img_cv.copy()\n",
    "level='word'\n",
    "for l,x,y,w,h,c,txt in df[['level','left','top','width','height','conf','text']].values:\n",
    "    # print(l,x,y,w,h,c)\n",
    "    if level == 'page':\n",
    "        if l == 1:\n",
    "            cv2.rectangle(image,(x,y),(x+w, y+h),(0,0,0),2)\n",
    "        else:\n",
    "            continue\n",
    "\n",
    "    elif level == 'block':\n",
    "        if l == 2:\n",
    "            cv2.rectangle(image,(x,y),(x+w, y+h),(255,0,0),2)\n",
    "        else:\n",
    "            continue\n",
    "\n",
    "    elif level == 'para':\n",
    "        if l == 3:\n",
    "            cv2.rectangle(image,(x,y),(x+w, y+h),(0,255,0),2)\n",
    "        else:\n",
    "            continue\n",
    "\n",
    "    elif level == 'line':\n",
    "        if l == 4:\n",
    "            cv2.rectangle(image,(x,y),(x+w, y+h),(0,0,255),2)\n",
    "        else:\n",
    "            continue\n",
    "\n",
    "    elif level == 'word':\n",
    "        if l == 5:\n",
    "            cv2.rectangle(image,(x,y),(x+w, y+h),(0,255,0),2)\n",
    "            cv2.putText(image, txt,(x,y), cv2.FONT_HERSHEY_PLAIN,1,(255,0,0),2)\n",
    "        else:\n",
    "            continue\n",
    "\n",
    "cv2.imshow(\"Bounding Box\", image)\n",
    "cv2.waitKey(0)\n",
    "cv2.destroyAllWindows()\n"
   ]
  },
  {
   "cell_type": "code",
   "execution_count": null,
   "id": "af7ce32a",
   "metadata": {},
   "outputs": [],
   "source": []
  }
 ],
 "metadata": {
  "kernelspec": {
   "display_name": "Python 3 (ipykernel)",
   "language": "python",
   "name": "python3"
  },
  "language_info": {
   "codemirror_mode": {
    "name": "ipython",
    "version": 3
   },
   "file_extension": ".py",
   "mimetype": "text/x-python",
   "name": "python",
   "nbconvert_exporter": "python",
   "pygments_lexer": "ipython3",
   "version": "3.8.2"
  }
 },
 "nbformat": 4,
 "nbformat_minor": 5
}
